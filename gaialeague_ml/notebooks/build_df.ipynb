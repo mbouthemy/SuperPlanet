{
 "cells": [
  {
   "cell_type": "code",
   "execution_count": 1,
   "metadata": {},
   "outputs": [],
   "source": [
    "import pandas as pd, numpy as np\n",
    "import json\n",
    "from pathlib import Path"
   ]
  },
  {
   "cell_type": "code",
   "execution_count": 2,
   "metadata": {},
   "outputs": [],
   "source": [
    "DATA_ROOT = Path(\"./data\")\n",
    "ANNOTATION_ROOT = DATA_ROOT/'annotations.json'"
   ]
  },
  {
   "cell_type": "code",
   "execution_count": 3,
   "metadata": {},
   "outputs": [],
   "source": [
    "with open(ANNOTATION_ROOT, 'r') as f:\n",
    "    dataset = json.loads(f.read())"
   ]
  },
  {
   "cell_type": "code",
   "execution_count": 4,
   "metadata": {},
   "outputs": [],
   "source": [
    "categories = dataset['categories']\n",
    "anns = dataset['annotations']\n",
    "imgs = dataset['images']"
   ]
  },
  {
   "cell_type": "code",
   "execution_count": 5,
   "metadata": {},
   "outputs": [
    {
     "data": {
      "text/plain": [
       "{'supercategory': 'Can', 'id': 10, 'name': 'Food Can'}"
      ]
     },
     "execution_count": 5,
     "metadata": {},
     "output_type": "execute_result"
    }
   ],
   "source": [
    "categories[10]"
   ]
  },
  {
   "cell_type": "code",
   "execution_count": 6,
   "metadata": {},
   "outputs": [
    {
     "data": {
      "text/plain": [
       "{'id': 0,\n",
       " 'width': 1537,\n",
       " 'height': 2049,\n",
       " 'file_name': 'batch_1/000006.jpg',\n",
       " 'license': None,\n",
       " 'flickr_url': 'https://farm66.staticflickr.com/65535/33978196618_e30a59e0a8_o.png',\n",
       " 'coco_url': None,\n",
       " 'date_captured': None,\n",
       " 'flickr_640_url': 'https://farm66.staticflickr.com/65535/33978196618_632623b4fc_z.jpg'}"
      ]
     },
     "execution_count": 6,
     "metadata": {},
     "output_type": "execute_result"
    }
   ],
   "source": [
    "imgs[0]"
   ]
  },
  {
   "cell_type": "code",
   "execution_count": 7,
   "metadata": {},
   "outputs": [
    {
     "data": {
      "text/plain": [
       "{'id': 1,\n",
       " 'image_id': 0,\n",
       " 'category_id': 6,\n",
       " 'segmentation': [[561.0,\n",
       "   1238.0,\n",
       "   568.0,\n",
       "   1201.0,\n",
       "   567.0,\n",
       "   1175.0,\n",
       "   549.0,\n",
       "   1127.0,\n",
       "   538.0,\n",
       "   1089.0,\n",
       "   519.0,\n",
       "   1043.0,\n",
       "   517.0,\n",
       "   1005.0,\n",
       "   523.0,\n",
       "   964.0,\n",
       "   529.0,\n",
       "   945.0,\n",
       "   520.0,\n",
       "   896.0,\n",
       "   525.0,\n",
       "   862.0,\n",
       "   536.0,\n",
       "   821.0,\n",
       "   554.0,\n",
       "   769.0,\n",
       "   577.0,\n",
       "   727.0,\n",
       "   595.0,\n",
       "   678.0,\n",
       "   596.0,\n",
       "   585.0,\n",
       "   588.0,\n",
       "   346.0,\n",
       "   581.0,\n",
       "   328.0,\n",
       "   569.0,\n",
       "   306.0,\n",
       "   570.0,\n",
       "   276.0,\n",
       "   576.0,\n",
       "   224.0,\n",
       "   560.0,\n",
       "   205.0,\n",
       "   564.0,\n",
       "   170.0,\n",
       "   578.0,\n",
       "   154.0,\n",
       "   608.0,\n",
       "   136.0,\n",
       "   649.0,\n",
       "   127.0,\n",
       "   688.0,\n",
       "   127.0,\n",
       "   726.0,\n",
       "   129.0,\n",
       "   759.0,\n",
       "   141.0,\n",
       "   784.0,\n",
       "   153.0,\n",
       "   792.0,\n",
       "   177.0,\n",
       "   788.0,\n",
       "   193.0,\n",
       "   782.0,\n",
       "   209.0,\n",
       "   792.0,\n",
       "   238.0,\n",
       "   802.0,\n",
       "   271.0,\n",
       "   802.0,\n",
       "   294.0,\n",
       "   791.0,\n",
       "   319.0,\n",
       "   789.0,\n",
       "   360.0,\n",
       "   794.0,\n",
       "   395.0,\n",
       "   810.0,\n",
       "   529.0,\n",
       "   819.0,\n",
       "   609.0,\n",
       "   841.0,\n",
       "   675.0,\n",
       "   882.0,\n",
       "   728.0,\n",
       "   916.0,\n",
       "   781.0,\n",
       "   928.0,\n",
       "   802.0,\n",
       "   938.0,\n",
       "   834.0,\n",
       "   940.0,\n",
       "   856.0,\n",
       "   939.0,\n",
       "   873.0,\n",
       "   938.0,\n",
       "   884.0,\n",
       "   944.0,\n",
       "   901.0,\n",
       "   951.0,\n",
       "   917.0,\n",
       "   956.0,\n",
       "   942.0,\n",
       "   960.0,\n",
       "   972.0,\n",
       "   964.0,\n",
       "   1013.0,\n",
       "   959.0,\n",
       "   1036.0,\n",
       "   952.0,\n",
       "   1081.0,\n",
       "   952.0,\n",
       "   1106.0,\n",
       "   934.0,\n",
       "   1163.0,\n",
       "   935.0,\n",
       "   1174.0,\n",
       "   949.0,\n",
       "   1209.0,\n",
       "   954.0,\n",
       "   1235.0,\n",
       "   952.0,\n",
       "   1273.0,\n",
       "   953.0,\n",
       "   1296.0,\n",
       "   946.0,\n",
       "   1320.0,\n",
       "   930.0,\n",
       "   1347.0,\n",
       "   914.0,\n",
       "   1367.0,\n",
       "   898.0,\n",
       "   1388.0,\n",
       "   855.0,\n",
       "   1419.0,\n",
       "   821.0,\n",
       "   1437.0,\n",
       "   769.0,\n",
       "   1449.0,\n",
       "   728.0,\n",
       "   1448.0,\n",
       "   687.0,\n",
       "   1439.0,\n",
       "   645.0,\n",
       "   1419.0,\n",
       "   618.0,\n",
       "   1397.0,\n",
       "   582.0,\n",
       "   1348.0,\n",
       "   572.0,\n",
       "   1314.0,\n",
       "   564.0,\n",
       "   1279.0,\n",
       "   561.0,\n",
       "   1253.0,\n",
       "   561.0,\n",
       "   1238.0]],\n",
       " 'area': 403954.0,\n",
       " 'bbox': [517.0, 127.0, 447.0, 1322.0],\n",
       " 'iscrowd': 0}"
      ]
     },
     "execution_count": 7,
     "metadata": {},
     "output_type": "execute_result"
    }
   ],
   "source": [
    "anns[0]"
   ]
  },
  {
   "cell_type": "code",
   "execution_count": 8,
   "metadata": {},
   "outputs": [
    {
     "data": {
      "text/plain": [
       "(4784, 8)"
      ]
     },
     "execution_count": 8,
     "metadata": {},
     "output_type": "execute_result"
    }
   ],
   "source": [
    "df_anns = []\n",
    "for ann in anns:\n",
    "    ann = ann.copy()\n",
    "    ann.pop('segmentation')\n",
    "    ann.pop(\"iscrowd\")\n",
    "    bbox = ann.pop(\"bbox\")\n",
    "    ann[\"x\"] = bbox[0]\n",
    "    ann[\"y\"] = bbox[1]\n",
    "    ann[\"width\"] = bbox[2]\n",
    "    ann[\"height\"] = bbox[3]\n",
    "    ann[\"ann_id\"] = ann.pop(\"id\")\n",
    "    ann[\"img_id\"] = ann.pop(\"image_id\")\n",
    "    ann[\"cat_id\"] = ann.pop(\"category_id\")\n",
    "    df_anns.append(ann)\n",
    "df_anns = pd.DataFrame(df_anns)\n",
    "df_anns.shape"
   ]
  },
  {
   "cell_type": "code",
   "execution_count": 9,
   "metadata": {},
   "outputs": [
    {
     "data": {
      "text/html": [
       "<div>\n",
       "<style scoped>\n",
       "    .dataframe tbody tr th:only-of-type {\n",
       "        vertical-align: middle;\n",
       "    }\n",
       "\n",
       "    .dataframe tbody tr th {\n",
       "        vertical-align: top;\n",
       "    }\n",
       "\n",
       "    .dataframe thead th {\n",
       "        text-align: right;\n",
       "    }\n",
       "</style>\n",
       "<table border=\"1\" class=\"dataframe\">\n",
       "  <thead>\n",
       "    <tr style=\"text-align: right;\">\n",
       "      <th></th>\n",
       "      <th>area</th>\n",
       "      <th>x</th>\n",
       "      <th>y</th>\n",
       "      <th>width</th>\n",
       "      <th>height</th>\n",
       "      <th>ann_id</th>\n",
       "      <th>img_id</th>\n",
       "      <th>cat_id</th>\n",
       "    </tr>\n",
       "  </thead>\n",
       "  <tbody>\n",
       "    <tr>\n",
       "      <td>0</td>\n",
       "      <td>403954.0</td>\n",
       "      <td>517.0</td>\n",
       "      <td>127.0</td>\n",
       "      <td>447.0</td>\n",
       "      <td>1322.0</td>\n",
       "      <td>1</td>\n",
       "      <td>0</td>\n",
       "      <td>6</td>\n",
       "    </tr>\n",
       "    <tr>\n",
       "      <td>1</td>\n",
       "      <td>1071259.5</td>\n",
       "      <td>1.0</td>\n",
       "      <td>457.0</td>\n",
       "      <td>1429.0</td>\n",
       "      <td>1519.0</td>\n",
       "      <td>2</td>\n",
       "      <td>1</td>\n",
       "      <td>18</td>\n",
       "    </tr>\n",
       "    <tr>\n",
       "      <td>2</td>\n",
       "      <td>99583.5</td>\n",
       "      <td>531.0</td>\n",
       "      <td>292.0</td>\n",
       "      <td>1006.0</td>\n",
       "      <td>672.0</td>\n",
       "      <td>3</td>\n",
       "      <td>1</td>\n",
       "      <td>14</td>\n",
       "    </tr>\n",
       "    <tr>\n",
       "      <td>3</td>\n",
       "      <td>73832.5</td>\n",
       "      <td>632.0</td>\n",
       "      <td>987.0</td>\n",
       "      <td>500.0</td>\n",
       "      <td>374.0</td>\n",
       "      <td>4</td>\n",
       "      <td>2</td>\n",
       "      <td>5</td>\n",
       "    </tr>\n",
       "    <tr>\n",
       "      <td>4</td>\n",
       "      <td>915.0</td>\n",
       "      <td>632.0</td>\n",
       "      <td>989.0</td>\n",
       "      <td>44.0</td>\n",
       "      <td>51.0</td>\n",
       "      <td>5</td>\n",
       "      <td>2</td>\n",
       "      <td>7</td>\n",
       "    </tr>\n",
       "  </tbody>\n",
       "</table>\n",
       "</div>"
      ],
      "text/plain": [
       "        area      x      y   width  height  ann_id  img_id  cat_id\n",
       "0   403954.0  517.0  127.0   447.0  1322.0       1       0       6\n",
       "1  1071259.5    1.0  457.0  1429.0  1519.0       2       1      18\n",
       "2    99583.5  531.0  292.0  1006.0   672.0       3       1      14\n",
       "3    73832.5  632.0  987.0   500.0   374.0       4       2       5\n",
       "4      915.0  632.0  989.0    44.0    51.0       5       2       7"
      ]
     },
     "execution_count": 9,
     "metadata": {},
     "output_type": "execute_result"
    }
   ],
   "source": [
    "df_anns.head()"
   ]
  },
  {
   "cell_type": "code",
   "execution_count": null,
   "metadata": {},
   "outputs": [],
   "source": []
  },
  {
   "cell_type": "code",
   "execution_count": 10,
   "metadata": {},
   "outputs": [
    {
     "data": {
      "text/plain": [
       "{'id': 0,\n",
       " 'width': 1537,\n",
       " 'height': 2049,\n",
       " 'file_name': 'batch_1/000006.jpg',\n",
       " 'license': None,\n",
       " 'flickr_url': 'https://farm66.staticflickr.com/65535/33978196618_e30a59e0a8_o.png',\n",
       " 'coco_url': None,\n",
       " 'date_captured': None,\n",
       " 'flickr_640_url': 'https://farm66.staticflickr.com/65535/33978196618_632623b4fc_z.jpg'}"
      ]
     },
     "execution_count": 10,
     "metadata": {},
     "output_type": "execute_result"
    }
   ],
   "source": [
    "imgs[0]"
   ]
  },
  {
   "cell_type": "code",
   "execution_count": 11,
   "metadata": {},
   "outputs": [
    {
     "data": {
      "text/plain": [
       "(1500, 4)"
      ]
     },
     "execution_count": 11,
     "metadata": {},
     "output_type": "execute_result"
    }
   ],
   "source": [
    "df_imgs = pd.DataFrame.from_records(imgs, columns=  [\"id\", \"width\",\"height\", \"file_name\"])\n",
    "df_imgs.rename(columns = {\n",
    "    \"id\": \"img_id\",\n",
    "    \"width\": \"img_width\",\n",
    "    \"height\": \"img_height\",\n",
    "    \"file_name\": \"img_file\",\n",
    "}, inplace = True)\n",
    "df_imgs.shape"
   ]
  },
  {
   "cell_type": "code",
   "execution_count": 12,
   "metadata": {},
   "outputs": [
    {
     "data": {
      "text/html": [
       "<div>\n",
       "<style scoped>\n",
       "    .dataframe tbody tr th:only-of-type {\n",
       "        vertical-align: middle;\n",
       "    }\n",
       "\n",
       "    .dataframe tbody tr th {\n",
       "        vertical-align: top;\n",
       "    }\n",
       "\n",
       "    .dataframe thead th {\n",
       "        text-align: right;\n",
       "    }\n",
       "</style>\n",
       "<table border=\"1\" class=\"dataframe\">\n",
       "  <thead>\n",
       "    <tr style=\"text-align: right;\">\n",
       "      <th></th>\n",
       "      <th>img_id</th>\n",
       "      <th>img_width</th>\n",
       "      <th>img_height</th>\n",
       "      <th>img_file</th>\n",
       "    </tr>\n",
       "  </thead>\n",
       "  <tbody>\n",
       "    <tr>\n",
       "      <td>0</td>\n",
       "      <td>0</td>\n",
       "      <td>1537</td>\n",
       "      <td>2049</td>\n",
       "      <td>batch_1/000006.jpg</td>\n",
       "    </tr>\n",
       "    <tr>\n",
       "      <td>1</td>\n",
       "      <td>1</td>\n",
       "      <td>1537</td>\n",
       "      <td>2049</td>\n",
       "      <td>batch_1/000008.jpg</td>\n",
       "    </tr>\n",
       "    <tr>\n",
       "      <td>2</td>\n",
       "      <td>2</td>\n",
       "      <td>1537</td>\n",
       "      <td>2049</td>\n",
       "      <td>batch_1/000010.jpg</td>\n",
       "    </tr>\n",
       "    <tr>\n",
       "      <td>3</td>\n",
       "      <td>3</td>\n",
       "      <td>2049</td>\n",
       "      <td>1537</td>\n",
       "      <td>batch_1/000019.jpg</td>\n",
       "    </tr>\n",
       "    <tr>\n",
       "      <td>4</td>\n",
       "      <td>4</td>\n",
       "      <td>1537</td>\n",
       "      <td>2049</td>\n",
       "      <td>batch_1/000026.jpg</td>\n",
       "    </tr>\n",
       "  </tbody>\n",
       "</table>\n",
       "</div>"
      ],
      "text/plain": [
       "   img_id  img_width  img_height            img_file\n",
       "0       0       1537        2049  batch_1/000006.jpg\n",
       "1       1       1537        2049  batch_1/000008.jpg\n",
       "2       2       1537        2049  batch_1/000010.jpg\n",
       "3       3       2049        1537  batch_1/000019.jpg\n",
       "4       4       1537        2049  batch_1/000026.jpg"
      ]
     },
     "execution_count": 12,
     "metadata": {},
     "output_type": "execute_result"
    }
   ],
   "source": [
    "df_imgs.head()"
   ]
  },
  {
   "cell_type": "code",
   "execution_count": null,
   "metadata": {},
   "outputs": [],
   "source": []
  },
  {
   "cell_type": "code",
   "execution_count": 13,
   "metadata": {},
   "outputs": [
    {
     "data": {
      "text/plain": [
       "{'supercategory': 'Aluminium foil', 'id': 0, 'name': 'Aluminium foil'}"
      ]
     },
     "execution_count": 13,
     "metadata": {},
     "output_type": "execute_result"
    }
   ],
   "source": [
    "categories[0]"
   ]
  },
  {
   "cell_type": "code",
   "execution_count": 14,
   "metadata": {},
   "outputs": [
    {
     "data": {
      "text/plain": [
       "(60, 3)"
      ]
     },
     "execution_count": 14,
     "metadata": {},
     "output_type": "execute_result"
    }
   ],
   "source": [
    "df_cats = pd.DataFrame(categories)\n",
    "df_cats.rename(\n",
    "    columns={\n",
    "        \"id\": \"cat_id\",\n",
    "        \"name\": \"cat_name\",\n",
    "    }, inplace=True\n",
    ")\n",
    "df_cats.shape"
   ]
  },
  {
   "cell_type": "code",
   "execution_count": 15,
   "metadata": {},
   "outputs": [
    {
     "data": {
      "text/html": [
       "<div>\n",
       "<style scoped>\n",
       "    .dataframe tbody tr th:only-of-type {\n",
       "        vertical-align: middle;\n",
       "    }\n",
       "\n",
       "    .dataframe tbody tr th {\n",
       "        vertical-align: top;\n",
       "    }\n",
       "\n",
       "    .dataframe thead th {\n",
       "        text-align: right;\n",
       "    }\n",
       "</style>\n",
       "<table border=\"1\" class=\"dataframe\">\n",
       "  <thead>\n",
       "    <tr style=\"text-align: right;\">\n",
       "      <th></th>\n",
       "      <th>supercategory</th>\n",
       "      <th>cat_id</th>\n",
       "      <th>cat_name</th>\n",
       "    </tr>\n",
       "  </thead>\n",
       "  <tbody>\n",
       "    <tr>\n",
       "      <td>0</td>\n",
       "      <td>Aluminium foil</td>\n",
       "      <td>0</td>\n",
       "      <td>Aluminium foil</td>\n",
       "    </tr>\n",
       "    <tr>\n",
       "      <td>1</td>\n",
       "      <td>Battery</td>\n",
       "      <td>1</td>\n",
       "      <td>Battery</td>\n",
       "    </tr>\n",
       "    <tr>\n",
       "      <td>2</td>\n",
       "      <td>Blister pack</td>\n",
       "      <td>2</td>\n",
       "      <td>Aluminium blister pack</td>\n",
       "    </tr>\n",
       "    <tr>\n",
       "      <td>3</td>\n",
       "      <td>Blister pack</td>\n",
       "      <td>3</td>\n",
       "      <td>Carded blister pack</td>\n",
       "    </tr>\n",
       "    <tr>\n",
       "      <td>4</td>\n",
       "      <td>Bottle</td>\n",
       "      <td>4</td>\n",
       "      <td>Other plastic bottle</td>\n",
       "    </tr>\n",
       "  </tbody>\n",
       "</table>\n",
       "</div>"
      ],
      "text/plain": [
       "    supercategory  cat_id                cat_name\n",
       "0  Aluminium foil       0          Aluminium foil\n",
       "1         Battery       1                 Battery\n",
       "2    Blister pack       2  Aluminium blister pack\n",
       "3    Blister pack       3     Carded blister pack\n",
       "4          Bottle       4    Other plastic bottle"
      ]
     },
     "execution_count": 15,
     "metadata": {},
     "output_type": "execute_result"
    }
   ],
   "source": [
    "df_cats.head()"
   ]
  },
  {
   "cell_type": "code",
   "execution_count": 16,
   "metadata": {},
   "outputs": [
    {
     "data": {
      "text/html": [
       "<div>\n",
       "<style scoped>\n",
       "    .dataframe tbody tr th:only-of-type {\n",
       "        vertical-align: middle;\n",
       "    }\n",
       "\n",
       "    .dataframe tbody tr th {\n",
       "        vertical-align: top;\n",
       "    }\n",
       "\n",
       "    .dataframe thead th {\n",
       "        text-align: right;\n",
       "    }\n",
       "</style>\n",
       "<table border=\"1\" class=\"dataframe\">\n",
       "  <thead>\n",
       "    <tr style=\"text-align: right;\">\n",
       "      <th></th>\n",
       "      <th>area</th>\n",
       "      <th>x</th>\n",
       "      <th>y</th>\n",
       "      <th>width</th>\n",
       "      <th>height</th>\n",
       "      <th>ann_id</th>\n",
       "      <th>img_id</th>\n",
       "      <th>cat_id</th>\n",
       "    </tr>\n",
       "  </thead>\n",
       "  <tbody>\n",
       "    <tr>\n",
       "      <td>0</td>\n",
       "      <td>403954.0</td>\n",
       "      <td>517.0</td>\n",
       "      <td>127.0</td>\n",
       "      <td>447.0</td>\n",
       "      <td>1322.0</td>\n",
       "      <td>1</td>\n",
       "      <td>0</td>\n",
       "      <td>6</td>\n",
       "    </tr>\n",
       "    <tr>\n",
       "      <td>1</td>\n",
       "      <td>1071259.5</td>\n",
       "      <td>1.0</td>\n",
       "      <td>457.0</td>\n",
       "      <td>1429.0</td>\n",
       "      <td>1519.0</td>\n",
       "      <td>2</td>\n",
       "      <td>1</td>\n",
       "      <td>18</td>\n",
       "    </tr>\n",
       "    <tr>\n",
       "      <td>2</td>\n",
       "      <td>99583.5</td>\n",
       "      <td>531.0</td>\n",
       "      <td>292.0</td>\n",
       "      <td>1006.0</td>\n",
       "      <td>672.0</td>\n",
       "      <td>3</td>\n",
       "      <td>1</td>\n",
       "      <td>14</td>\n",
       "    </tr>\n",
       "    <tr>\n",
       "      <td>3</td>\n",
       "      <td>73832.5</td>\n",
       "      <td>632.0</td>\n",
       "      <td>987.0</td>\n",
       "      <td>500.0</td>\n",
       "      <td>374.0</td>\n",
       "      <td>4</td>\n",
       "      <td>2</td>\n",
       "      <td>5</td>\n",
       "    </tr>\n",
       "    <tr>\n",
       "      <td>4</td>\n",
       "      <td>915.0</td>\n",
       "      <td>632.0</td>\n",
       "      <td>989.0</td>\n",
       "      <td>44.0</td>\n",
       "      <td>51.0</td>\n",
       "      <td>5</td>\n",
       "      <td>2</td>\n",
       "      <td>7</td>\n",
       "    </tr>\n",
       "  </tbody>\n",
       "</table>\n",
       "</div>"
      ],
      "text/plain": [
       "        area      x      y   width  height  ann_id  img_id  cat_id\n",
       "0   403954.0  517.0  127.0   447.0  1322.0       1       0       6\n",
       "1  1071259.5    1.0  457.0  1429.0  1519.0       2       1      18\n",
       "2    99583.5  531.0  292.0  1006.0   672.0       3       1      14\n",
       "3    73832.5  632.0  987.0   500.0   374.0       4       2       5\n",
       "4      915.0  632.0  989.0    44.0    51.0       5       2       7"
      ]
     },
     "execution_count": 16,
     "metadata": {},
     "output_type": "execute_result"
    }
   ],
   "source": [
    "df_anns.head()"
   ]
  },
  {
   "cell_type": "code",
   "execution_count": 17,
   "metadata": {},
   "outputs": [
    {
     "data": {
      "text/plain": [
       "(4784, 13)"
      ]
     },
     "execution_count": 17,
     "metadata": {},
     "output_type": "execute_result"
    }
   ],
   "source": [
    "df = df_anns.merge(df_imgs, on=\"img_id\" )\n",
    "df = df.merge(df_cats, on=\"cat_id\")\n",
    "df = df[['img_id','img_width', 'img_height', 'img_file','cat_id','cat_name', \n",
    "                     'supercategory', 'ann_id', 'x', 'y', 'width','height', 'area']]\n",
    "df.sort_values([\"img_id\", \"ann_id\"], inplace=True)\n",
    "df.reset_index(drop=True, inplace=True)\n",
    "df.shape"
   ]
  },
  {
   "cell_type": "code",
   "execution_count": 18,
   "metadata": {},
   "outputs": [
    {
     "data": {
      "text/html": [
       "<div>\n",
       "<style scoped>\n",
       "    .dataframe tbody tr th:only-of-type {\n",
       "        vertical-align: middle;\n",
       "    }\n",
       "\n",
       "    .dataframe tbody tr th {\n",
       "        vertical-align: top;\n",
       "    }\n",
       "\n",
       "    .dataframe thead th {\n",
       "        text-align: right;\n",
       "    }\n",
       "</style>\n",
       "<table border=\"1\" class=\"dataframe\">\n",
       "  <thead>\n",
       "    <tr style=\"text-align: right;\">\n",
       "      <th></th>\n",
       "      <th>img_id</th>\n",
       "      <th>img_width</th>\n",
       "      <th>img_height</th>\n",
       "      <th>img_file</th>\n",
       "      <th>cat_id</th>\n",
       "      <th>cat_name</th>\n",
       "      <th>supercategory</th>\n",
       "      <th>ann_id</th>\n",
       "      <th>x</th>\n",
       "      <th>y</th>\n",
       "      <th>width</th>\n",
       "      <th>height</th>\n",
       "      <th>area</th>\n",
       "    </tr>\n",
       "  </thead>\n",
       "  <tbody>\n",
       "    <tr>\n",
       "      <td>0</td>\n",
       "      <td>0</td>\n",
       "      <td>1537</td>\n",
       "      <td>2049</td>\n",
       "      <td>batch_1/000006.jpg</td>\n",
       "      <td>6</td>\n",
       "      <td>Glass bottle</td>\n",
       "      <td>Bottle</td>\n",
       "      <td>1</td>\n",
       "      <td>517.0</td>\n",
       "      <td>127.0</td>\n",
       "      <td>447.0</td>\n",
       "      <td>1322.0</td>\n",
       "      <td>403954.0</td>\n",
       "    </tr>\n",
       "    <tr>\n",
       "      <td>1</td>\n",
       "      <td>1</td>\n",
       "      <td>1537</td>\n",
       "      <td>2049</td>\n",
       "      <td>batch_1/000008.jpg</td>\n",
       "      <td>18</td>\n",
       "      <td>Meal carton</td>\n",
       "      <td>Carton</td>\n",
       "      <td>2</td>\n",
       "      <td>1.0</td>\n",
       "      <td>457.0</td>\n",
       "      <td>1429.0</td>\n",
       "      <td>1519.0</td>\n",
       "      <td>1071259.5</td>\n",
       "    </tr>\n",
       "    <tr>\n",
       "      <td>2</td>\n",
       "      <td>1</td>\n",
       "      <td>1537</td>\n",
       "      <td>2049</td>\n",
       "      <td>batch_1/000008.jpg</td>\n",
       "      <td>14</td>\n",
       "      <td>Other carton</td>\n",
       "      <td>Carton</td>\n",
       "      <td>3</td>\n",
       "      <td>531.0</td>\n",
       "      <td>292.0</td>\n",
       "      <td>1006.0</td>\n",
       "      <td>672.0</td>\n",
       "      <td>99583.5</td>\n",
       "    </tr>\n",
       "    <tr>\n",
       "      <td>3</td>\n",
       "      <td>2</td>\n",
       "      <td>1537</td>\n",
       "      <td>2049</td>\n",
       "      <td>batch_1/000010.jpg</td>\n",
       "      <td>5</td>\n",
       "      <td>Clear plastic bottle</td>\n",
       "      <td>Bottle</td>\n",
       "      <td>4</td>\n",
       "      <td>632.0</td>\n",
       "      <td>987.0</td>\n",
       "      <td>500.0</td>\n",
       "      <td>374.0</td>\n",
       "      <td>73832.5</td>\n",
       "    </tr>\n",
       "    <tr>\n",
       "      <td>4</td>\n",
       "      <td>2</td>\n",
       "      <td>1537</td>\n",
       "      <td>2049</td>\n",
       "      <td>batch_1/000010.jpg</td>\n",
       "      <td>7</td>\n",
       "      <td>Plastic bottle cap</td>\n",
       "      <td>Bottle cap</td>\n",
       "      <td>5</td>\n",
       "      <td>632.0</td>\n",
       "      <td>989.0</td>\n",
       "      <td>44.0</td>\n",
       "      <td>51.0</td>\n",
       "      <td>915.0</td>\n",
       "    </tr>\n",
       "  </tbody>\n",
       "</table>\n",
       "</div>"
      ],
      "text/plain": [
       "   img_id  img_width  img_height            img_file  cat_id  \\\n",
       "0       0       1537        2049  batch_1/000006.jpg       6   \n",
       "1       1       1537        2049  batch_1/000008.jpg      18   \n",
       "2       1       1537        2049  batch_1/000008.jpg      14   \n",
       "3       2       1537        2049  batch_1/000010.jpg       5   \n",
       "4       2       1537        2049  batch_1/000010.jpg       7   \n",
       "\n",
       "               cat_name supercategory  ann_id      x      y   width  height  \\\n",
       "0          Glass bottle        Bottle       1  517.0  127.0   447.0  1322.0   \n",
       "1           Meal carton        Carton       2    1.0  457.0  1429.0  1519.0   \n",
       "2          Other carton        Carton       3  531.0  292.0  1006.0   672.0   \n",
       "3  Clear plastic bottle        Bottle       4  632.0  987.0   500.0   374.0   \n",
       "4    Plastic bottle cap    Bottle cap       5  632.0  989.0    44.0    51.0   \n",
       "\n",
       "        area  \n",
       "0   403954.0  \n",
       "1  1071259.5  \n",
       "2    99583.5  \n",
       "3    73832.5  \n",
       "4      915.0  "
      ]
     },
     "execution_count": 18,
     "metadata": {},
     "output_type": "execute_result"
    }
   ],
   "source": [
    "df.head()"
   ]
  },
  {
   "cell_type": "code",
   "execution_count": 19,
   "metadata": {},
   "outputs": [
    {
     "name": "stdout",
     "output_type": "stream",
     "text": [
      "<class 'pandas.core.frame.DataFrame'>\n",
      "RangeIndex: 4784 entries, 0 to 4783\n",
      "Data columns (total 13 columns):\n",
      "img_id           4784 non-null int64\n",
      "img_width        4784 non-null int64\n",
      "img_height       4784 non-null int64\n",
      "img_file         4784 non-null object\n",
      "cat_id           4784 non-null int64\n",
      "cat_name         4784 non-null object\n",
      "supercategory    4784 non-null object\n",
      "ann_id           4784 non-null int64\n",
      "x                4784 non-null float64\n",
      "y                4784 non-null float64\n",
      "width            4784 non-null float64\n",
      "height           4784 non-null float64\n",
      "area             4784 non-null float64\n",
      "dtypes: float64(5), int64(5), object(3)\n",
      "memory usage: 486.0+ KB\n"
     ]
    }
   ],
   "source": [
    "df.info()"
   ]
  },
  {
   "cell_type": "code",
   "execution_count": 20,
   "metadata": {},
   "outputs": [],
   "source": [
    "df.to_csv(\"meta_df.csv\", index=False)"
   ]
  },
  {
   "cell_type": "code",
   "execution_count": 25,
   "metadata": {},
   "outputs": [
    {
     "data": {
      "text/plain": [
       "array([ 0,  1,  2,  3,  4,  5,  6,  7,  8,  9, 10, 11, 12, 13, 14, 15, 16,\n",
       "       17, 18, 19, 20, 21, 22, 23, 24, 25, 26, 27, 28, 29, 30, 31, 32, 33,\n",
       "       34, 36, 37, 38, 39, 40, 41, 42, 43, 44, 45, 46, 47, 48, 49, 50, 51,\n",
       "       52, 53, 54, 55, 56, 57, 58, 59], dtype=int64)"
      ]
     },
     "execution_count": 25,
     "metadata": {},
     "output_type": "execute_result"
    }
   ],
   "source": [
    "df.cat_id.drop_duplicates().sort_values().values"
   ]
  }
 ],
 "metadata": {
  "kernelspec": {
   "display_name": "Python 3",
   "language": "python",
   "name": "python3"
  },
  "language_info": {
   "codemirror_mode": {
    "name": "ipython",
    "version": 3
   },
   "file_extension": ".py",
   "mimetype": "text/x-python",
   "name": "python",
   "nbconvert_exporter": "python",
   "pygments_lexer": "ipython3",
   "version": "3.7.4"
  }
 },
 "nbformat": 4,
 "nbformat_minor": 2
}
